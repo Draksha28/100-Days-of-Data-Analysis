{
 "cells": [
  {
   "cell_type": "code",
   "execution_count": 5,
   "metadata": {},
   "outputs": [
    {
     "name": "stdout",
     "output_type": "stream",
     "text": [
      "Python 3.7.6\n"
     ]
    }
   ],
   "source": [
    "!python --version"
   ]
  },
  {
   "cell_type": "code",
   "execution_count": 1,
   "metadata": {},
   "outputs": [
    {
     "name": "stdout",
     "output_type": "stream",
     "text": [
      "Hello World\n"
     ]
    }
   ],
   "source": [
    "print(\"Hello World\")"
   ]
  },
  {
   "cell_type": "code",
   "execution_count": 4,
   "metadata": {},
   "outputs": [
    {
     "name": "stdout",
     "output_type": "stream",
     "text": [
      "D\n",
      "R\n",
      "A\n",
      "K\n",
      "S\n",
      "H\n",
      "A\n",
      " \n",
      "G\n"
     ]
    }
   ],
   "source": [
    "for character in \"DRAKSHA G\":  # This comes later in concepts but is just an over-view;\n",
    "    print(character)"
   ]
  },
  {
   "cell_type": "code",
   "execution_count": 5,
   "metadata": {},
   "outputs": [],
   "source": [
    "#while loop too been executed but hard to grasp now... "
   ]
  },
  {
   "cell_type": "code",
   "execution_count": 7,
   "metadata": {},
   "outputs": [
    {
     "name": "stdout",
     "output_type": "stream",
     "text": [
      "243\n",
      "3.3333333333333335\n",
      "3\n",
      "1\n",
      "15\n",
      "16\n",
      "7\n",
      "-6\n"
     ]
    }
   ],
   "source": [
    "# Python follows PEDMAS(Parenthesis Exponential Division Multiplication Addition Subtraction)\n",
    "print(3 **5)\n",
    "print(10/3)  #this is integer division operator(quotient)\n",
    "print(10//3) #this is modulo/remainder operator\n",
    "print(10 % 3)\n",
    "print(5*3)\n",
    "print(7+9)\n",
    "print(12-5)\n",
    "print(2-8)"
   ]
  },
  {
   "cell_type": "code",
   "execution_count": 13,
   "metadata": {},
   "outputs": [
    {
     "name": "stdout",
     "output_type": "stream",
     "text": [
      "<function square at 0x00FED8E8>\n",
      "9\n",
      "68\n"
     ]
    }
   ],
   "source": [
    "# Python has some built in functions for arithmetic operations to make it simpler\n",
    "def square(x):\n",
    "    return x*x\n",
    "def add(x, y):\n",
    "    return x+y\n",
    "def sub(x, y):\n",
    "    return x-y\n",
    "print(square) #it shows us that it is a function...\n",
    "print(square(3))\n",
    "print(add(sub(9, 5), square(8)))"
   ]
  },
  {
   "cell_type": "code",
   "execution_count": 14,
   "metadata": {},
   "outputs": [
    {
     "name": "stdout",
     "output_type": "stream",
     "text": [
      "<class 'float'>\n",
      "<class 'str'>\n",
      "<class 'int'>\n",
      "<class 'str'>\n",
      "<class 'str'>\n",
      "<class 'str'>\n",
      "<class 'str'>\n",
      "You may feel why is it we have these three ways, but it is used when we have to give a statement which has apostrophy or quotation marks\n",
      " Hey, \"Sup?\" Let's go out somewhere\n",
      "42 500\n",
      "42500\n"
     ]
    }
   ],
   "source": [
    "# Python has a unique feature of knowing the type of the value we give in \n",
    "print(type(3.8))\n",
    "print(type(\"Hey, Whatcha doing?\"))\n",
    "print(type(5))\n",
    "print(type(\"75\")) #though it's an integer;as it is placed in quotation marks, it is showed as string\n",
    "print(type(\"This is a string(as we know)\"))\n",
    "print(type('Even this is a string'))\n",
    "print(type(\"\"\" Even this is a way to represent a string as well... \"\"\"))\n",
    "print(\"You may feel why is it we have these three ways, but it is used when we have to give a statement which has apostrophy or quotation marks\")\n",
    "print(''' Hey, \"Sup?\" Let's go out somewhere''')\n",
    "print(42,500)  #do not keep comma's as we do it normally; python takes comma as a space \n",
    "print(42500)"
   ]
  },
  {
   "cell_type": "code",
   "execution_count": 22,
   "metadata": {},
   "outputs": [
    {
     "name": "stdout",
     "output_type": "stream",
     "text": [
      "3.14 3\n",
      "3.958 3\n",
      "123.45\n",
      "<class 'float'>\n",
      "The value is 55\n"
     ]
    }
   ],
   "source": [
    "# Python also has a feature of converting the data types...\n",
    "print(3.14,int(3.14))\n",
    "print(3.958,int(3.988))  # it doesn't rond-off but instead it cuts the values after decimal and returns the value.\n",
    "print(float(123.45))\n",
    "print(type(float(123.45)))\n",
    "value = 50+5\n",
    "print(\"The value is \" + str(value)) #if we have to call a int type to print along with other(string) type; we may have to use this way"
   ]
  },
  {
   "cell_type": "code",
   "execution_count": 26,
   "metadata": {},
   "outputs": [
    {
     "name": "stdout",
     "output_type": "stream",
     "text": [
      "29\n",
      "3\n"
     ]
    }
   ],
   "source": [
    "# Python too has a feature of declaring a variable and printing it\n",
    "x = 9\n",
    "x = 29\n",
    "print(x)\n",
    "print(len(\"HEY\")) #to print length of it"
   ]
  },
  {
   "cell_type": "code",
   "execution_count": 27,
   "metadata": {},
   "outputs": [
    {
     "name": "stdout",
     "output_type": "stream",
     "text": [
      "512\n",
      "64\n"
     ]
    }
   ],
   "source": [
    "print(2 ** 3 ** 2)     # the right-most ** operator gets done first!\n",
    "print((2 ** 3) ** 2)   # use parentheses to force the order you want!\n",
    "# x = x+3 (or) x+=3\n"
   ]
  },
  {
   "cell_type": "code",
   "execution_count": 28,
   "metadata": {},
   "outputs": [],
   "source": [
    "# 16 - 2 * 5 // 3 + 1\n",
    "# 16 - 2 * 5 // 3 + 1    # uses PEDMAS rule to solve such expressions\n",
    "# 16 - 10 // 3 + 1\n",
    "# 16 - 3 + 1\n",
    "# 13 + 1\n",
    "# 14"
   ]
  },
  {
   "cell_type": "code",
   "execution_count": 31,
   "metadata": {},
   "outputs": [
    {
     "name": "stdout",
     "output_type": "stream",
     "text": [
      "Please enter the number of seconds you wish to convert  3600 \n",
      "Hrs= 1 mins= 0 secs= 0\n"
     ]
    }
   ],
   "source": [
    "str_seconds = input(\"Please enter the number of seconds you wish to convert \") #This is how taking input from user works in Python\n",
    "total_secs = int(str_seconds)\n",
    "\n",
    "hours = total_secs // 3600\n",
    "secs_still_remaining = total_secs % 3600\n",
    "minutes =  secs_still_remaining // 60\n",
    "secs_finally_remaining = secs_still_remaining  % 60\n",
    "\n",
    "print(\"Hrs=\", hours, \"mins=\", minutes, \"secs=\", secs_finally_remaining)\n"
   ]
  },
  {
   "cell_type": "code",
   "execution_count": 1,
   "metadata": {},
   "outputs": [],
   "source": [
    "import turtle\n",
    "wn = turtle.Screen()\n",
    "mack = turtle.Turtle()\n",
    "mack.forward(250)\n",
    "mack.left(90)\n",
    "mack.forward(30)\n"
   ]
  },
  {
   "cell_type": "code",
   "execution_count": 1,
   "metadata": {},
   "outputs": [],
   "source": [
    "import turtle\n",
    "wn = turtle.Screen()             # Set up the window and its attributes\n",
    "wn.bgcolor(\"lightgreen\")\n",
    "\n",
    "\n",
    "tess = turtle.Turtle()           # create tess and set his pen width\n",
    "tess.pensize(5)\n",
    "\n",
    "alex = turtle.Turtle()           # create alex\n",
    "alex.color(\"hotpink\")            # set his color\n",
    "\n",
    "tess.forward(80)                 # Let tess draw an equilateral triangle\n",
    "tess.left(120)\n",
    "tess.forward(80)\n",
    "tess.left(120)\n",
    "tess.forward(80)\n",
    "tess.left(120)                   # complete the triangle\n",
    "\n",
    "tess.right(180)                  # turn tess around\n",
    "tess.forward(80)                 # move her away from the origin so we can see alex\n",
    "\n",
    "alex.forward(50)                 # make alex draw a square\n",
    "alex.left(90)\n",
    "alex.forward(50)\n",
    "alex.left(90)\n",
    "alex.forward(50)\n",
    "alex.left(90)\n",
    "alex.forward(50)\n",
    "alex.left(90)\n",
    "\n",
    "wn.exitonclick()\n"
   ]
  },
  {
   "cell_type": "code",
   "execution_count": 6,
   "metadata": {},
   "outputs": [],
   "source": [
    "import turtle\n",
    "wn = turtle.Screen()\n",
    "\n",
    "elan = turtle.Turtle()\n",
    "\n",
    "distance = 50\n",
    "for _ in range(10):               # Showing an exampleof how a for loop can be used/executed\n",
    "    elan.forward(distance)\n",
    "    elan.right(90)\n",
    "    distance = distance + 10\n"
   ]
  },
  {
   "cell_type": "code",
   "execution_count": 4,
   "metadata": {},
   "outputs": [],
   "source": [
    "import turtle\n",
    "wn = turtle.Screen()\n",
    "wn.bgcolor(\"blue\")\n",
    "tess = turtle.Turtle()\n",
    "tess.color(\"black\")\n",
    "tess.shape(\"turtle\")\n",
    "\n",
    "dist = 5\n",
    "tess.up()                     # this is new\n",
    "for _ in range(30):    # start with size = 5 and grow by 2\n",
    "    tess.stamp()                # leave an impression on the canvas\n",
    "    tess.forward(dist)          # move tess along\n",
    "    tess.right(24)              # and turn her\n",
    "    dist = dist + 2\n",
    "wn.exitonclick()\n"
   ]
  },
  {
   "cell_type": "code",
   "execution_count": 6,
   "metadata": {},
   "outputs": [
    {
     "name": "stdout",
     "output_type": "stream",
     "text": [
      "0.15190436606094737\n",
      "1\n"
     ]
    }
   ],
   "source": [
    "import random\n",
    "# insted I can use \"from random import random and randrange\"\n",
    "\n",
    "prob = random.random()    # and can skip having rand twice in code\n",
    "print(prob)\n",
    "\n",
    "diceThrow = random.randrange(1,7)       # return an int, one of 1,2,3,4,5,6\n",
    "print(diceThrow)\n"
   ]
  },
  {
   "cell_type": "code",
   "execution_count": 1,
   "metadata": {},
   "outputs": [],
   "source": [
    "# import turtle\n",
    "# wn = turtle.Screen()             \n",
    "# wn.bgcolor(\"lightgreen\")\n",
    "# alex= turtle.Turtle()\n",
    "# alex.color(\"black\")\n",
    "# alex.speed(10)\n",
    "# for i in range(30):  # to draw a triangle\n",
    "#     alex.forward(i)\n",
    "#     alex.left(120)\n",
    "# wn.exitonclick()\n"
   ]
  },
  {
   "cell_type": "code",
   "execution_count": 1,
   "metadata": {},
   "outputs": [],
   "source": [
    "import turtle\n",
    "wn = turtle.Screen()             \n",
    "wn.bgcolor(\"lightgreen\")\n",
    "alex = turtle.Turtle()     # to draw a star\n",
    "alex.color(\"black\")\n",
    "alex.pensize(5)\n",
    "for _ in range(5):\n",
    "    alex.forward(150)                \n",
    "    alex.left(216)\n",
    "wn.exitonclick()"
   ]
  },
  {
   "cell_type": "code",
   "execution_count": 2,
   "metadata": {},
   "outputs": [],
   "source": [
    "# import turtle\n",
    "# wn = turtle.Screen()             \n",
    "# wn.bgcolor(\"lightgreen\")\n",
    "# alex = turtle.Turtle()       # to draw an equilateral triangle\n",
    "# alex.color(\"black\")\n",
    "# alex.pensize(7)\n",
    "# for _ in range(3):\n",
    "#     alex.forward(80)                \n",
    "#     alex.left(120)\n",
    "# wn.exitonclick()\n",
    "# tess = turtle.Turtle()       # to draw a square\n",
    "# tess.color(\"black\")\n",
    "# tess.pensize(7)\n",
    "# for _ in range(4):\n",
    "#     tess.forward(150)\n",
    "#     tess.left(90)\n",
    "# wn.exitonclick()\n",
    "# ace = turtle.Turtle()      # to draw a hexagon\n",
    "# ace.color(\"black\")\n",
    "# ace.pensize(7)\n",
    "# for _ in range(6):\n",
    "#     tess.forward(100)\n",
    "#     tess.left(60)\n",
    "# wn.exitonclick()\n",
    "# mer = turtle.Turtle()     # to draw a octagon\n",
    "# mer.color(\"black\")\n",
    "# mer.pensize(7)\n",
    "# for _ in range(8):\n",
    "#     mer.forward(80)\n",
    "#     mer.left(45)\n",
    "# wn.exitonclick()"
   ]
  },
  {
   "cell_type": "code",
   "execution_count": 1,
   "metadata": {},
   "outputs": [],
   "source": [
    "import turtle\n",
    "wn = turtle.Screen()             \n",
    "wn.bgcolor(\"lightgreen\")\n",
    "alex = turtle.Turtle()      # to draw a circle(clock)\n",
    "alex.color(\"blue\")\n",
    "alex.shape(\"turtle\")\n",
    "for _ in range(12):\n",
    "    alex.stamp()\n",
    "    alex.up()\n",
    "    alex.forward(50)\n",
    "    alex.right(30)\n",
    "wn.exitonclick()\n"
   ]
  },
  {
   "cell_type": "code",
   "execution_count": 1,
   "metadata": {},
   "outputs": [],
   "source": [
    "import turtle\n",
    "tanenbaum = turtle.Turtle()    # to draw some pattern\n",
    "tanenbaum.speed(20)\n",
    "for i in range(350):\n",
    "    tanenbaum.forward(i)\n",
    "    tanenbaum.right(70)"
   ]
  },
  {
   "cell_type": "code",
   "execution_count": 3,
   "metadata": {},
   "outputs": [],
   "source": [
    "import turtle\n",
    "import math\n",
    "wn = turtle.Screen()\n",
    "bob = turtle.Turtle()       # to create a house\n",
    "bob.right(90)\n",
    "bob.forward(50)\n",
    "bob.left(90)\n",
    "bob.forward(50)\n",
    "bob.left(90)\n",
    "bob.forward(50)\n",
    "bob.left(90)\n",
    "bob.forward(50)\n",
    "bob.right(135)\n",
    "dist = math.sqrt(50*50/2)\n",
    "bob.forward(dist)\n",
    "bob.right(90)\n",
    "bob.forward(dist)"
   ]
  },
  {
   "cell_type": "code",
   "execution_count": null,
   "metadata": {},
   "outputs": [],
   "source": []
  }
 ],
 "metadata": {
  "kernelspec": {
   "display_name": "Python 3",
   "language": "python",
   "name": "python3"
  },
  "language_info": {
   "codemirror_mode": {
    "name": "ipython",
    "version": 3
   },
   "file_extension": ".py",
   "mimetype": "text/x-python",
   "name": "python",
   "nbconvert_exporter": "python",
   "pygments_lexer": "ipython3",
   "version": "3.7.6"
  }
 },
 "nbformat": 4,
 "nbformat_minor": 4
}
