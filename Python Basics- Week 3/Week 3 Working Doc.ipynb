{
 "cells": [
  {
   "cell_type": "code",
   "execution_count": 1,
   "metadata": {},
   "outputs": [
    {
     "name": "stdout",
     "output_type": "stream",
     "text": [
      "<class 'bool'>\n",
      "<class 'str'>\n"
     ]
    }
   ],
   "source": [
    "print(type(True))           #Booleans\n",
    "print(type(\"True\"))\n"
   ]
  },
  {
   "cell_type": "code",
   "execution_count": 2,
   "metadata": {},
   "outputs": [
    {
     "name": "stdout",
     "output_type": "stream",
     "text": [
      "True\n",
      "False\n"
     ]
    }
   ],
   "source": [
    "x = 5                        # Logical Operators work on PEDMAS; Comparison; not; and/or\n",
    "print(x>0 and x<10)\n",
    "\n",
    "n = 25\n",
    "print(n%2 == 0 or n%3 == 0)\n"
   ]
  },
  {
   "cell_type": "code",
   "execution_count": 3,
   "metadata": {},
   "outputs": [
    {
     "name": "stdout",
     "output_type": "stream",
     "text": [
      "True\n",
      "False\n",
      "True\n",
      "True\n",
      "True\n",
      "True\n",
      "True\n",
      "False\n",
      "False\n"
     ]
    }
   ],
   "source": [
    "print('p' in 'apple')                 # The 'in' and 'not in' operators \n",
    "print('i' in 'apple')                # But, here they do match even for a single string because it's a string in which we check whereas the last example in this is a list\n",
    "print('' in 'a')\n",
    "print('' in 'apple')\n",
    "print('x' not in 'apple')\n",
    "print(\"a\" in [\"a\", \"b\", \"c\", \"d\"])\n",
    "print(9 in [3, 2, 9, 10, 9.0])\n",
    "print('wow' not in ['gee wiz', 'gosh golly', 'wow', 'amazing'])\n",
    "print(\"a\" in [\"apple\", \"absolutely\", \"application\", \"nope\"])            # Though there is a in it the complete string doesn't match\n"
   ]
  },
  {
   "attachments": {
    "image.png": {
     "image/png": "[encoded data removed]"
    }
   },
   "cell_type": "markdown",
   "metadata": {},
   "source": [
    "![image.png](attachment:image.png)"
   ]
  },
  {
   "cell_type": "markdown",
   "metadata": {},
   "source": [
    "*if* **BOOLEAN EXPRESSION**:\n",
    "    \n",
    "    ***STATEMENTS_1***       # executed if condition evaluates to True\n",
    "\n",
    "*else*:\n",
    "    \n",
    "    ***STATEMENTS_2***        # executed if condition evaluates to False"
   ]
  },
  {
   "cell_type": "code",
   "execution_count": 18,
   "metadata": {},
   "outputs": [],
   "source": [
    "courses = [\"ENGR 101\", \"SI 118\", \"ENG 125\", \"SI 107\", \"CHEM 130\"]     # if/else condition in list...use any()\n",
    "\n",
    "# for i in courses:\n",
    "#     if(i==\"SI 106\"):\n",
    "#         output = \"You can apply to SI!\"\n",
    "#         #print(output)\n",
    "#         break\n",
    "#     else:\n",
    "#         output = \"Take SI 106!\"\n",
    "#         #print(output)\n",
    "# output\n",
    "\n",
    "\n",
    "# if any(ele == \"SI 106\" for ele in courses):                  \n",
    "#     output = \"You can apply to SI!\"\n",
    "#     print(output)\n",
    "# else:\n",
    "#     output = \"Take SI 106!\"\n",
    "#     print(output)\n"
   ]
  },
  {
   "cell_type": "code",
   "execution_count": 5,
   "metadata": {},
   "outputs": [
    {
     "name": "stdout",
     "output_type": "stream",
     "text": [
      "The negative number  -10  is not valid here.\n"
     ]
    }
   ],
   "source": [
    "x = -10                                              # Nested Conditionals\n",
    "if x < 0:\n",
    "    print(\"The negative number \",  x, \" is not valid here.\")\n",
    "else:\n",
    "    if x > 0:\n",
    "        print(x, \" is a positive number\")\n",
    "    else:\n",
    "        print(x,\" is 0\")"
   ]
  },
  {
   "cell_type": "code",
   "execution_count": 6,
   "metadata": {},
   "outputs": [
    {
     "name": "stdout",
     "output_type": "stream",
     "text": [
      "x and y must be equal\n"
     ]
    }
   ],
   "source": [
    "x = 10                        # Chained Conditionals\n",
    "y = 10\n",
    "\n",
    "if x < y:\n",
    "    print(\"x is less than y\")\n",
    "elif x > y:\n",
    "    print(\"x is greater than y\")\n",
    "else:\n",
    "    print(\"x and y must be equal\")"
   ]
  },
  {
   "cell_type": "code",
   "execution_count": 19,
   "metadata": {},
   "outputs": [
    {
     "name": "stdout",
     "output_type": "stream",
     "text": [
      "['Bring an umbrella.', 'Nice day!', 'Bring an umbrella.', 'Watch out for clouds!', 'Nice day!', 'Nice day!', 'Watch out for clouds!', 'Good for the flowers?']\n"
     ]
    }
   ],
   "source": [
    "# Create an empty list called resps. Using the list percent_rain, for each percent, if it is above 90, add the string \n",
    "# ‘Bring an umbrella.’ to resps, otherwise if it is above 80, add the string ‘Good for the flowers?’ to resps, \n",
    "# otherwise if it is above 50, add the string ‘Watch out for clouds!’ to resps, otherwise, add the string ‘Nice day!’ to resps. \n",
    "# Note: if you’re sure you’ve got the problem right but it doesn’t pass, then check that you’ve \n",
    "# matched up the strings exactly.\n",
    "\n",
    "\n",
    "percent_rain = [94.3, 45, 100, 78, 16, 5.3, 79, 86]\n",
    "resps = []\n",
    "for p in percent_rain:\n",
    "    if(p>90):\n",
    "        resps.append(\"Bring an umbrella.\")\n",
    "    elif(p>80):\n",
    "        resps.append(\"Good for the flowers?\")\n",
    "    elif(p>50):\n",
    "        resps.append(\"Watch out for clouds!\")\n",
    "    else:\n",
    "        resps.append(\"Nice day!\")\n",
    "\n",
    "print(resps)\n"
   ]
  },
  {
   "cell_type": "markdown",
   "metadata": {},
   "source": [
    "**block**\n",
    "\n",
    "A group of consecutive statements with the same indentation.\n",
    "\n",
    "**body**\n",
    "\n",
    "The block of statements in a compound statement that follows the header.\n",
    "\n",
    "**boolean values**\n",
    "\n",
    "A value that is either True or False. True and False must be capitalized to be considered Boolean.\n",
    "\n",
    "**branch**\n",
    "\n",
    "One of the possible paths of the flow of execution determined by conditional execution.\n",
    "\n",
    "**chained conditional**\n",
    "\n",
    "A conditional branch with more than two possible flows of execution. In Python chained conditionals \n",
    "are written with if ... elif ... else statements.\n",
    "\n",
    "**comparison operator**\n",
    "\n",
    "One of the operators that compares two values: ==, !=, >, <, >=, and <=.\n",
    "\n",
    "**condition**\n",
    "\n",
    "The boolean expression in a conditional statement that determines which branch is executed.\n",
    "\n",
    "**conditional statement**\n",
    "\n",
    "A statement that controls the flow of execution depending on some condition. \n",
    "In Python the keywords if, elif, and else are used for conditional statements.\n",
    "\n",
    "**logical operators**\n",
    "\n",
    "“and”, “or” and “not” are logical operators used to evaluate expressions. \n",
    "Their semantic meaning is similar to their English meaning.\n",
    "\n",
    "**nesting**\n",
    "\n",
    "One program structure within another, such as a conditional statement inside a branch of another conditional statement.\n",
    "\n",
    "**unary selection**\n",
    "\n",
    "A selection statement in which there is only an “if” statement and the “else” statement is omitted entirely. \n",
    "In an unary selection, the statements are only executed if the condition evaluates to true, \n",
    "otherwise the program continues to the body following the if statement."
   ]
  },
  {
   "cell_type": "code",
   "execution_count": 21,
   "metadata": {},
   "outputs": [
    {
     "name": "stdout",
     "output_type": "stream",
     "text": [
      "32\n",
      "32\n"
     ]
    }
   ],
   "source": [
    "s = \"singing in the rain and playing in the rain are two entirely different situations but both can be fun\"\n",
    "vowels = ['a','e','i','o','u']\n",
    "num_vowels = sum([1 for i in s if i in vowels])\n",
    "print(num_vowels)\n",
    "\n",
    "# Write your code here.                # either way can be done\n",
    "num_vowels = 0\n",
    "for i in s:\n",
    "    if (i in vowels):\n",
    "        num_vowels += 1\n",
    "print(num_vowels)\n",
    "\n"
   ]
  },
  {
   "cell_type": "code",
   "execution_count": 22,
   "metadata": {},
   "outputs": [
    {
     "name": "stdout",
     "output_type": "stream",
     "text": [
      "Enter something:mom\n",
      "mom\n",
      "True\n"
     ]
    }
   ],
   "source": [
    "#Get the user to enter some text and print out True if it’s a palindrome, False otherwise. \n",
    "#(Hint: Start by reversing the input string, and then use the == operator to compare two values to see if they are the same)\n",
    "x = input(\"Enter something:\")\n",
    "print(x[::-1]) \n",
    "if (x == x[::-1]):\n",
    "    print(\"True\")\n",
    "else:\n",
    "    print(\"False\")\n",
    "\n"
   ]
  },
  {
   "cell_type": "code",
   "execution_count": 25,
   "metadata": {},
   "outputs": [
    {
     "data": {
      "text/plain": [
       "0.8899999999999997"
      ]
     },
     "execution_count": 25,
     "metadata": {},
     "output_type": "execute_result"
    }
   ],
   "source": [
    "abs(4.11-5.0)"
   ]
  },
  {
   "cell_type": "code",
   "execution_count": null,
   "metadata": {},
   "outputs": [],
   "source": []
  }
 ],
 "metadata": {
  "kernelspec": {
   "display_name": "Python 3",
   "language": "python",
   "name": "python3"
  },
  "language_info": {
   "codemirror_mode": {
    "name": "ipython",
    "version": 3
   },
   "file_extension": ".py",
   "mimetype": "text/x-python",
   "name": "python",
   "nbconvert_exporter": "python",
   "pygments_lexer": "ipython3",
   "version": "3.7.6"
  }
 },
 "nbformat": 4,
 "nbformat_minor": 4
}
